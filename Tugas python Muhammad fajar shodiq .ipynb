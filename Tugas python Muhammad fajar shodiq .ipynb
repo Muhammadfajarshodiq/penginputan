{
 "cells": [
  {
   "cell_type": "code",
   "execution_count": 6,
   "metadata": {},
   "outputs": [
    {
     "name": "stdout",
     "output_type": "stream",
     "text": [
      "********************************************\n",
      "Data Inputan\n",
      "********************************************\n",
      "NIS    : 11806745\n",
      "Nama   : Muhammad fajar shodiq\n",
      "JK     : laki laki\n",
      "Rombel : rpl xi-1\n",
      "Rayon  : cisarua 5\n",
      "Nilai B.Indonesia  : 90\n",
      "Nilai Matematika   : 89\n",
      "Nilai B.Inggris    : 89\n",
      "********************************************\n",
      "Laporan Nilai Akhir Semester\n",
      "SMK Wikrama Bogor\n",
      "-----------------Data Diri------------------\n",
      "NIS    :  11806745\n",
      "Nama   :  Muhammad fajar shodiq\n",
      "JK     :  laki laki\n",
      "Rombel :  rpl xi-1\n",
      "Rayon  :  cisarua 5\n",
      "-------------------Nilai--------------------\n",
      "Bahasa Indonesia   :  90\n",
      "Matematika         :  89\n",
      "Bahasa Inggris     :  89\n",
      "Rata-rata Nilai    :  89.33333333333333\n",
      "Kriteria Kelulusan : Lulus\n"
     ]
    }
   ],
   "source": [
    "print (\"********************************************\")\n",
    "print (\"Data Inputan\")\n",
    "print (\"********************************************\")\n",
    "nis = input(\"NIS    : \")\n",
    "nama = input(\"Nama   : \")\n",
    "jk = input (\"JK     : \")\n",
    "rombel = input (\"Rombel : \")\n",
    "rayon = input (\"Rayon  : \")\n",
    "bindo = int(input(\"Nilai B.Indonesia  : \"))\n",
    "mtk = int(input(\"Nilai Matematika   : \"))\n",
    "bing = int(input(\"Nilai B.Inggris    : \"))\n",
    "print (\"********************************************\")\n",
    "print (\"Laporan Nilai Akhir Semester\")\n",
    "print (\"SMK Wikrama Bogor\")\n",
    "print (\"-----------------Data Diri------------------\")\n",
    "print (\"NIS    : \", nis)\n",
    "print (\"Nama   : \", nama)\n",
    "print (\"JK     : \", jk)\n",
    "print (\"Rombel : \", rombel)\n",
    "print (\"Rayon  : \", rayon)\n",
    "print (\"-------------------Nilai--------------------\")\n",
    "print (\"Bahasa Indonesia   : \", bindo)\n",
    "print (\"Matematika         : \", mtk)\n",
    "print (\"Bahasa Inggris     : \", bing)\n",
    "rata2=(bindo+mtk+bing)/3\n",
    "print(\"Rata-rata Nilai    : \", rata2)\n",
    "if rata2>= 75:\n",
    "    print(\"Kriteria Kelulusan : Lulus\")\n",
    "else:\n",
    "    print(\"Kriteria Kelulusan : Tidak Lulus\")"
   ]
  },
  {
   "cell_type": "code",
   "execution_count": null,
   "metadata": {},
   "outputs": [],
   "source": []
  }
 ],
 "metadata": {
  "kernelspec": {
   "display_name": "Python 3",
   "language": "python",
   "name": "python3"
  },
  "language_info": {
   "codemirror_mode": {
    "name": "ipython",
    "version": 3
   },
   "file_extension": ".py",
   "mimetype": "text/x-python",
   "name": "python",
   "nbconvert_exporter": "python",
   "pygments_lexer": "ipython3",
   "version": "3.7.1"
  }
 },
 "nbformat": 4,
 "nbformat_minor": 2
}
